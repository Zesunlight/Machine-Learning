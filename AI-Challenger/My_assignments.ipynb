{
 "cells": [
  {
   "cell_type": "code",
   "execution_count": 4,
   "metadata": {
    "scrolled": true
   },
   "outputs": [],
   "source": [
    "import numpy as np\n",
    "import tensorflow as tf\n",
    "import matplotlib.pyplot as plt\n",
    "import json\n",
    "import os\n",
    "import math\n",
    "from PIL import Image\n",
    "from data_utils import *\n",
    "from network_utils import *"
   ]
  },
  {
   "cell_type": "code",
   "execution_count": 5,
   "metadata": {},
   "outputs": [],
   "source": [
    "train_image_dir = 'F:\\Sample\\Train'\n",
    "test_image_dir = 'F:\\Sample\\Test'\n",
    "image_height, image_width = 128, 128\n",
    "num_classes = 80\n",
    "num_channels = 3\n",
    "learning_rate = 0.001\n",
    "keep_prob = 0.5\n",
    "num_epochs = 1000\n",
    "minibatch_size = 256"
   ]
  },
  {
   "cell_type": "code",
   "execution_count": 6,
   "metadata": {
    "scrolled": true
   },
   "outputs": [],
   "source": [
    "train_json_path = 'F:\\Sample\\scene_train_annotations.json'\n",
    "train_label = convert_json(train_json_path)\n",
    "X_train_orig, Y_train_orig = dataset(train_image_dir, train_label, image_height, image_width)\n",
    "\n",
    "test_json_path = 'F:\\Sample\\scene_test_annotations.json'\n",
    "test_label = convert_json(test_json_path)  \n",
    "X_test_orig, Y_test_orig = dataset(test_image_dir, test_label, image_height, image_width)"
   ]
  },
  {
   "cell_type": "code",
   "execution_count": 7,
   "metadata": {},
   "outputs": [
    {
     "name": "stdout",
     "output_type": "stream",
     "text": [
      "X_train.shape: (40, 128, 128, 3)\n",
      "Y_train.shape: (40, 80)\n",
      "X_test.shape: (30, 128, 128, 3)\n",
      "Y_test.shape: (30, 80)\n"
     ]
    }
   ],
   "source": [
    "X_train = X_train_orig / 255.\n",
    "num_train_examples = X_train.shape[0]\n",
    "Y_train = np.eye(80)[Y_train_orig.reshape(-1)]    #convert to one hot\n",
    "print('X_train.shape: ' + str(X_train.shape))\n",
    "print('Y_train.shape: ' + str(Y_train.shape))\n",
    "\n",
    "X_test = X_test_orig / 255.\n",
    "num_test_examples = X_test.shape[0]\n",
    "Y_test = np.eye(80)[Y_test_orig.reshape(-1)]    #convert to one hot\n",
    "print('X_test.shape: ' + str(X_test.shape))\n",
    "print('Y_test.shape: ' + str(Y_test.shape))"
   ]
  },
  {
   "cell_type": "code",
   "execution_count": 27,
   "metadata": {},
   "outputs": [],
   "source": [
    "def model(X_train, Y_train, learning_rate, keep_prob, num_epochs, minibatch_size, print_cost=True):\n",
    "    \n",
    "    tf.reset_default_graph()\n",
    "    #tf.set_random_seed(1)\n",
    "\n",
    "    # Initialize parameters and Create Placeholders\n",
    "    parameters = get_parameters()\n",
    "    X = tf.placeholder(tf.float32, [None, image_height, image_width, num_channels])\n",
    "    Y = tf.placeholder(tf.float32, [None, num_classes])\n",
    "\n",
    "    # Forward propagation, Cost function, Backward propagation\n",
    "    Z = forward_propagation(X, parameters, keep_prob)\n",
    "    cost = tf.reduce_mean(tf.nn.softmax_cross_entropy_with_logits(logits=Z, labels=Y))\n",
    "    optimizer = tf.train.AdamOptimizer(learning_rate=learning_rate).minimize(cost)\n",
    "\n",
    "    init = tf.global_variables_initializer()\n",
    "    #seed = 2\n",
    "    costs = []\n",
    "\n",
    "    with tf.Session() as sess:\n",
    "        \n",
    "        saver = tf.train.Saver(max_to_keep = 3)\n",
    "        #min_cost = 1.e6\n",
    "        \n",
    "        cheakpoint = tf.train.get_checkpoint_state('./cheakpoint/')\n",
    "        if cheakpoint and cheakpoint.model_checkpoint_path:\n",
    "            print('Restore the model from checkpoint %s' % cheakpoint.model_checkpoint_path)\n",
    "            # Restores from checkpoint\n",
    "            saver.restore(sess, cheakpoint.model_checkpoint_path)\n",
    "            start = int(cheakpoint.model_checkpoint_path.split('/')[-1].split('-')[-1])\n",
    "        else:\n",
    "            sess.run(init)\n",
    "            start = 0\n",
    "            print('start training from new state')                  \n",
    "        \n",
    "        for epoch in range(start, start + num_epochs):\n",
    "            \n",
    "            minibatch_cost = 0.\n",
    "            num_minibatches = int(num_train_examples / minibatch_size)\n",
    "            #seed = seed + 1\n",
    "            minibatches = random_minibatches(X_train, Y_train, minibatch_size)\n",
    "            \n",
    "            for minibatch in minibatches:\n",
    "                (minibatch_X, minibatch_Y) = minibatch\n",
    "                _ , temp_cost = sess.run([optimizer, cost], feed_dict={X:minibatch_X, Y:minibatch_Y})\n",
    "                minibatch_cost += temp_cost / num_minibatches\n",
    "                \n",
    "            if print_cost == True and epoch % 200 == 0:\n",
    "                print('Cost after epoch %i: %f' %(epoch, minibatch_cost))\n",
    "                \n",
    "            costs.append(minibatch_cost)\n",
    "            \"\"\"\n",
    "            if minibatch_cost < min_cost:\n",
    "                min_cost = minibatch\n",
    "                #store the model with the minimum cost\n",
    "                saver.save(sess, './cheakpoint/model.ckpt', global_step = epoch)\n",
    "            \"\"\"    \n",
    "            if epoch % 200 == 0:\n",
    "                saver.save(sess, './cheakpoint/model.ckpt', global_step = epoch)\n",
    "                print('writing checkpoint at step %s' % epoch)\n",
    "\n",
    "        plt.plot(np.squeeze(costs))\n",
    "        plt.ylabel('cost')\n",
    "        plt.xlabel('iterations')\n",
    "        plt.title(\"Learning rate =\" + str(learning_rate))\n",
    "        plt.show()\n",
    "\n",
    "        predict_op = tf.argmax(Z, 1)\n",
    "        correct_prediction = tf.equal(predict_op, tf.argmax(Y, 1))\n",
    "        accuracy = tf.reduce_mean(tf.cast(correct_prediction, \"float\"))\n",
    "        \n",
    "        train_accuracy = accuracy.eval({X: X_train, Y: Y_train})\n",
    "        print(\"Train Accuracy:\", train_accuracy)\n",
    "        \n",
    "        test_accuracy = accuracy.eval({X: X_test, Y: Y_test})\n",
    "        print(\"Test Accuracy:\", test_accuracy)\n",
    "        \n",
    "    return parameters, train_accuracy, test_accuracy"
   ]
  },
  {
   "cell_type": "code",
   "execution_count": 28,
   "metadata": {
    "scrolled": false
   },
   "outputs": [
    {
     "name": "stdout",
     "output_type": "stream",
     "text": [
      "Restore the model from checkpoint ./cheakpoint/model.ckpt-45\n",
      "INFO:tensorflow:Restoring parameters from ./cheakpoint/model.ckpt-45\n",
      "Cost after epoch 45: 0.464075\n",
      "writing checkpoint at step 45\n"
     ]
    },
    {
     "data": {
      "image/png": "[encoded data removed]",
      "text/plain": [
       "<Figure size 432x288 with 1 Axes>"
      ]
     },
     "metadata": {},
     "output_type": "display_data"
    },
    {
     "name": "stdout",
     "output_type": "stream",
     "text": [
      "Train Accuracy: 0.9\n",
      "Test Accuracy: 0.0\n"
     ]
    }
   ],
   "source": [
    "parameters, _, _ = model(X_train, Y_train, learning_rate, keep_prob, num_epochs, minibatch_size)"
   ]
  },
  {
   "cell_type": "code",
   "execution_count": null,
   "metadata": {},
   "outputs": [],
   "source": []
  }
 ],
 "metadata": {
  "kernelspec": {
   "display_name": "Python 3",
   "language": "python",
   "name": "python3"
  },
  "language_info": {
   "codemirror_mode": {
    "name": "ipython",
    "version": 3
   },
   "file_extension": ".py",
   "mimetype": "text/x-python",
   "name": "python",
   "nbconvert_exporter": "python",
   "pygments_lexer": "ipython3",
   "version": "3.6.4"
  }
 },
 "nbformat": 4,
 "nbformat_minor": 2
}
