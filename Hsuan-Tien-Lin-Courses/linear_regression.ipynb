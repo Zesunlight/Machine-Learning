{
 "cells": [
  {
   "cell_type": "code",
   "execution_count": 1,
   "metadata": {},
   "outputs": [],
   "source": [
    "import numpy as np"
   ]
  },
  {
   "cell_type": "code",
   "execution_count": 25,
   "metadata": {},
   "outputs": [],
   "source": [
    "def f(x1, x2):\n",
    "    r = x1**2 + x2**2 - 0.6\n",
    "    return r"
   ]
  },
  {
   "cell_type": "code",
   "execution_count": 21,
   "metadata": {},
   "outputs": [],
   "source": [
    "def noise(Y, flip):\n",
    "    for i in range(len(flip)):\n",
    "        Y[flip[i]] = -Y[flip[i]]"
   ]
  },
  {
   "cell_type": "code",
   "execution_count": 27,
   "metadata": {},
   "outputs": [],
   "source": [
    "def test(X, y, pinv):\n",
    "    N = len(y)\n",
    "    y_hat = np.dot(np.dot(X, pinv), y)\n",
    "    incorrect = 0\n",
    "    for i in range(N):\n",
    "        if y[i] * y_hat[i] <= 0:\n",
    "            incorrect = incorrect + 1\n",
    "    return incorrect / N"
   ]
  },
  {
   "cell_type": "code",
   "execution_count": 23,
   "metadata": {},
   "outputs": [],
   "source": [
    "def linear_regression():\n",
    "    X = np.random.rand(1000, 2) * 2 - 1\n",
    "    Y = []\n",
    "    for i in range(1000):\n",
    "        Y.append(f(X[i, 0], X[i, 1]))\n",
    "\n",
    "    flip = np.random.randint(0, 1000, 100)\n",
    "    noise(Y, flip)\n",
    "    \n",
    "    pinv = np.dot(np.linalg.inv(np.dot(X.T, X)), X.T)\n",
    "\n",
    "    return test(X, Y, pinv)"
   ]
  },
  {
   "cell_type": "code",
   "execution_count": 29,
   "metadata": {},
   "outputs": [
    {
     "name": "stdout",
     "output_type": "stream",
     "text": [
      "0.4885599999999999\n"
     ]
    }
   ],
   "source": [
    "average = 0\n",
    "times = 100\n",
    "for i in range(times):\n",
    "    average = average + linear_regression()\n",
    "    \n",
    "print(average / times)"
   ]
  },
  {
   "cell_type": "code",
   "execution_count": null,
   "metadata": {},
   "outputs": [],
   "source": []
  }
 ],
 "metadata": {
  "kernelspec": {
   "display_name": "Python 3",
   "language": "python",
   "name": "python3"
  },
  "language_info": {
   "codemirror_mode": {
    "name": "ipython",
    "version": 3
   },
   "file_extension": ".py",
   "mimetype": "text/x-python",
   "name": "python",
   "nbconvert_exporter": "python",
   "pygments_lexer": "ipython3",
   "version": "3.6.4"
  }
 },
 "nbformat": 4,
 "nbformat_minor": 2
}
