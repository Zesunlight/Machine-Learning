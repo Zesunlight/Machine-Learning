{
 "cells": [
  {
   "cell_type": "code",
   "execution_count": 31,
   "metadata": {},
   "outputs": [],
   "source": [
    "import numpy as np"
   ]
  },
  {
   "cell_type": "code",
   "execution_count": 32,
   "metadata": {},
   "outputs": [
    {
     "name": "stdout",
     "output_type": "stream",
     "text": [
      "[1.      0.97681 0.10723 0.64385 0.29556] 1\n",
      "[1.      0.67194 0.2418  0.83075 0.42741] 1\n",
      "[1.      0.20619 0.23321 0.81004 0.98691] 1\n",
      "[1.       0.51583  0.055814 0.92274  0.75797 ] 1\n",
      "[1.      0.70893 0.10836 0.33951 0.77058] 1\n"
     ]
    }
   ],
   "source": [
    "x, y = [], []\n",
    "\n",
    "data = open('hw1_15_train.dat', 'r')\n",
    "for line in data.readlines():\n",
    "    example = list(map(float, line.split()))\n",
    "    example.insert(0, 1.0)\n",
    "    x.append(example[:5])\n",
    "    y.append(int(example[5]))\n",
    "data.close()\n",
    "\n",
    "x = np.array(x)\n",
    "y = np.array(y)\n",
    "for i in range(5):\n",
    "    print(x[i], y[i])"
   ]
  },
  {
   "cell_type": "code",
   "execution_count": 33,
   "metadata": {},
   "outputs": [],
   "source": [
    "def sign(x):\n",
    "    result = -1\n",
    "    if x > 0:\n",
    "        result = 1\n",
    "    return result"
   ]
  },
  {
   "cell_type": "code",
   "execution_count": 34,
   "metadata": {},
   "outputs": [],
   "source": [
    "def pla(seed):\n",
    "    w = np.zeros(5)\n",
    "    i, times = 0, 0\n",
    "    correct = 0\n",
    "    total = y.size\n",
    "    \n",
    "    np.random.seed(seed)\n",
    "    x_random = np.random.permutation(x)\n",
    "    np.random.seed(seed)\n",
    "    y_random = np.random.permutation(y)\n",
    "    \n",
    "    while correct != total:\n",
    "        if sign(np.dot(w, x_random[i].T)) != y_random[i]:\n",
    "            w = w + y_random[i] * x_random[i] * 0.5\n",
    "            correct = 0\n",
    "            times = times + 1\n",
    "        i = (i + 1) % total\n",
    "        correct = correct + 1 \n",
    "\n",
    "    return w, times"
   ]
  },
  {
   "cell_type": "code",
   "execution_count": 36,
   "metadata": {
    "scrolled": true
   },
   "outputs": [
    {
     "name": "stdout",
     "output_type": "stream",
     "text": [
      "40.0125\n"
     ]
    }
   ],
   "source": [
    "average = 0\n",
    "for i in range(2000):\n",
    "    w, times = pla(i)\n",
    "    #print(i, w, times)\n",
    "    average = average + times\n",
    "print(average / 2000)"
   ]
  },
  {
   "cell_type": "code",
   "execution_count": null,
   "metadata": {},
   "outputs": [],
   "source": []
  }
 ],
 "metadata": {
  "kernelspec": {
   "display_name": "Python 3",
   "language": "python",
   "name": "python3"
  },
  "language_info": {
   "codemirror_mode": {
    "name": "ipython",
    "version": 3
   },
   "file_extension": ".py",
   "mimetype": "text/x-python",
   "name": "python",
   "nbconvert_exporter": "python",
   "pygments_lexer": "ipython3",
   "version": "3.6.4"
  }
 },
 "nbformat": 4,
 "nbformat_minor": 2
}
