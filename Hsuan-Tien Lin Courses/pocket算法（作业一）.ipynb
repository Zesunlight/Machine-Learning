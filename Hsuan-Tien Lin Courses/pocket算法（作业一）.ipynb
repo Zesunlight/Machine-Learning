{
 "cells": [
  {
   "cell_type": "code",
   "execution_count": 1,
   "metadata": {},
   "outputs": [],
   "source": [
    "import numpy as np"
   ]
  },
  {
   "cell_type": "code",
   "execution_count": 13,
   "metadata": {},
   "outputs": [],
   "source": [
    "x, y = [], []\n",
    "\n",
    "data = open('hw1_18_train.dat', 'r')\n",
    "for line in data.readlines():\n",
    "    example = list(map(float, line.split()))\n",
    "    example.insert(0, 1.0)\n",
    "    x.append(example[:5])\n",
    "    y.append(int(example[5]))\n",
    "data.close()\n",
    "\n",
    "x_train = np.array(x)\n",
    "y_train = np.array(y)"
   ]
  },
  {
   "cell_type": "code",
   "execution_count": 3,
   "metadata": {},
   "outputs": [],
   "source": [
    "x, y = [], []\n",
    "\n",
    "data = open('hw1_18_test.dat', 'r')\n",
    "for line in data.readlines():\n",
    "    example = list(map(float, line.split()))\n",
    "    example.insert(0, 1.0)\n",
    "    x.append(example[:5])\n",
    "    y.append(int(example[5]))\n",
    "data.close()\n",
    "\n",
    "x_test = np.array(x)\n",
    "y_test = np.array(y)"
   ]
  },
  {
   "cell_type": "code",
   "execution_count": 90,
   "metadata": {},
   "outputs": [],
   "source": [
    "def pocket(x, y, seed):\n",
    "  \n",
    "    np.random.seed(seed)\n",
    "    x = np.random.permutation(x)\n",
    "    np.random.seed(seed)\n",
    "    y = np.random.permutation(y)\n",
    "    \n",
    "    w = np.zeros(5)\n",
    "    times = 0\n",
    "    total = y.size\n",
    "    mistake = total\n",
    "    \n",
    "    j = 0\n",
    "    while True:\n",
    "        latter_mistake = 0\n",
    "        if np.dot(x[j].T, w) * y[j] <= 0:\n",
    "            w_update = w + y[j] * x[j]\n",
    "            times = times + 1\n",
    "            #print('w_update_' + str(times))\n",
    "            #print(w_update)\n",
    "\n",
    "            for k in range(total):\n",
    "                if np.dot(x[k].T, w_update) * y[k] <= 0:\n",
    "                    latter_mistake = latter_mistake + 1\n",
    "            #print(latter_mistake, times)\n",
    "\n",
    "            if latter_mistake < mistake:\n",
    "                mistake = latter_mistake\n",
    "                w = w_update\n",
    "                #print('mistake_update_' + str(times))\n",
    "        \n",
    "        j = (j + 1) % total\n",
    "        if times == 50:\n",
    "            break\n",
    "\n",
    "    test_mistake = 0\n",
    "    for i in range(y_test.size):\n",
    "        if np.dot(x_test[i].T, w) * y_test[i] <= 0:\n",
    "            test_mistake = test_mistake + 1\n",
    "    \n",
    "    return w, mistake, test_mistake"
   ]
  },
  {
   "cell_type": "code",
   "execution_count": null,
   "metadata": {
    "scrolled": false
   },
   "outputs": [],
   "source": [
    "average, test_average = 0, 0\n",
    "epoch = 50\n",
    "for k in range(epoch):\n",
    "    w, mistake, test_mistake = pocket(x_train, y_train, k + 50)\n",
    "    print(k, mistake, test_mistake)\n",
    "    test_average = test_average + test_mistake\n",
    "    average = average + mistake\n",
    "print(average / (epoch * y_train.size), test_average / (epoch * y_test.size))"
   ]
  },
  {
   "cell_type": "code",
   "execution_count": null,
   "metadata": {},
   "outputs": [],
   "source": []
  }
 ],
 "metadata": {
  "kernelspec": {
   "display_name": "Python 3",
   "language": "python",
   "name": "python3"
  },
  "language_info": {
   "codemirror_mode": {
    "name": "ipython",
    "version": 3
   },
   "file_extension": ".py",
   "mimetype": "text/x-python",
   "name": "python",
   "nbconvert_exporter": "python",
   "pygments_lexer": "ipython3",
   "version": "3.6.4"
  }
 },
 "nbformat": 4,
 "nbformat_minor": 2
}
