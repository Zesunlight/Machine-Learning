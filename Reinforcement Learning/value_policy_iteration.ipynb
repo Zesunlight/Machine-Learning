{
 "cells": [
  {
   "cell_type": "code",
   "execution_count": 1,
   "metadata": {},
   "outputs": [],
   "source": [
    "import numpy as np\n",
    "import gym"
   ]
  },
  {
   "cell_type": "code",
   "execution_count": 6,
   "metadata": {},
   "outputs": [],
   "source": [
    "def value_iteration(env, gamma = 1.0, iteration = 4096):\n",
    "    env.reset()\n",
    "    value = np.zeros(env.nS)\n",
    "    policy = np.zeros(env.nS)\n",
    "    for i in range(iteration):\n",
    "        new_value = value.copy()\n",
    "        new_policy = policy.copy()\n",
    "        for s in range(env.nS):\n",
    "            q_s = np.zeros(env.nA)\n",
    "            for a in range(env.nA):\n",
    "                for probabilty, new_state, reward, done in env.P[s][a]:\n",
    "                    q_s[a] += probabilty * (reward + gamma * value[new_state])\n",
    "            new_value[s] = np.max(q_s)\n",
    "            policy[s] = np.argmax(q_s)\n",
    "        \n",
    "        if np.sum(np.fabs(new_value - value)) < 1e-20:\n",
    "            # converged\n",
    "            print('converged at {}'.format(i))\n",
    "            break\n",
    "        else:\n",
    "            value = new_value\n",
    "            policy = new_policy\n",
    "    \n",
    "    return value, policy"
   ]
  },
  {
   "cell_type": "code",
   "execution_count": 35,
   "metadata": {},
   "outputs": [],
   "source": [
    "def policy_iteration(env, gamma = 1.0, iteration = 2048):\n",
    "    policy = np.random.randint(0, env.nA, env.nS)\n",
    "    \n",
    "    for i in range(iteration):\n",
    "        value = np.zeros(env.nS)\n",
    "        while True:\n",
    "            new_value = np.zeros(env.nS)\n",
    "            for s in range(env.nS):\n",
    "                a = policy[s]\n",
    "                temp = 0\n",
    "                for probabilty, new_state, reward, done in env.P[s][a]:\n",
    "                    new_value[s] += + probabilty * (reward + gamma * value[new_state])\n",
    "\n",
    "            if np.sum(np.fabs(new_value - value)) <= 1e-10:\n",
    "                # value converged\n",
    "                break\n",
    "            else:\n",
    "                value = new_value\n",
    "                \n",
    "        new_policy = np.zeros(env.nS)\n",
    "        for s in range(env.nS):\n",
    "            q_s = np.zeros(env.nA)\n",
    "            for a in range(env.nA):\n",
    "                for probabilty, new_state, reward, done in env.P[s][a]:\n",
    "                    q_s[a] += + probabilty * (reward + gamma * new_value[new_state])\n",
    "            new_policy[s] = np.argmax(q_s)\n",
    "            \n",
    "        if np.all(new_policy == policy):\n",
    "            # converged\n",
    "            print('converged at {}'.format(i))\n",
    "            break\n",
    "        else:\n",
    "            policy = new_policy\n",
    "    \n",
    "    return value, policy"
   ]
  },
  {
   "cell_type": "code",
   "execution_count": 59,
   "metadata": {},
   "outputs": [],
   "source": [
    "def play_game(env, policy, render):\n",
    "    obs = env.reset()\n",
    "    total_reward = 0\n",
    "    while True:\n",
    "        if render:\n",
    "            env.render()\n",
    "        obs, reward, done , _ = env.step(int(policy[obs]))\n",
    "        total_reward += reward\n",
    "        if done:\n",
    "            break\n",
    "    return total_reward"
   ]
  },
  {
   "cell_type": "code",
   "execution_count": 36,
   "metadata": {
    "scrolled": true
   },
   "outputs": [
    {
     "name": "stdout",
     "output_type": "stream",
     "text": [
      "value converged\n",
      "value converged\n",
      "value converged\n",
      "value converged\n",
      "value converged\n",
      "value converged\n",
      "value converged\n",
      "converged at 6\n",
      "[3. 2. 2. 2. 2. 2. 2. 2. 3. 3. 3. 3. 3. 3. 3. 2. 0. 0. 0. 0. 2. 3. 3. 2.\n",
      " 0. 0. 0. 1. 0. 0. 2. 2. 0. 3. 0. 0. 2. 1. 3. 2. 0. 0. 0. 1. 3. 0. 0. 2.\n",
      " 0. 0. 1. 0. 0. 0. 0. 2. 0. 1. 0. 0. 1. 2. 1. 0.]\n"
     ]
    }
   ],
   "source": [
    "env = gym.make('FrozenLake8x8-v0')\n",
    "env = env.unwrapped\n",
    "gamma = 1.0 # discount factor\n",
    "# value, policy = value_iteration(env, gamma, 2400)\n",
    "value, policy = policy_iteration(env, gamma)\n",
    "print(policy)\n",
    "# play_game(env, policy, True)"
   ]
  }
 ],
 "metadata": {
  "kernelspec": {
   "display_name": "Python 3",
   "language": "python",
   "name": "python3"
  },
  "language_info": {
   "codemirror_mode": {
    "name": "ipython",
    "version": 3
   },
   "file_extension": ".py",
   "mimetype": "text/x-python",
   "name": "python",
   "nbconvert_exporter": "python",
   "pygments_lexer": "ipython3",
   "version": "3.6.4"
  }
 },
 "nbformat": 4,
 "nbformat_minor": 2
}
